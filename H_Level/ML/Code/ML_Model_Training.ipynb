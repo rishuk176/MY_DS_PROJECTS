{
 "cells": [
  {
   "cell_type": "code",
   "execution_count": 1,
   "id": "4530e563",
   "metadata": {
    "ExecuteTime": {
     "end_time": "2024-02-11T10:51:57.896526Z",
     "start_time": "2024-02-11T10:51:56.745594Z"
    }
   },
   "outputs": [],
   "source": [
    "import pandas as pd\n",
    "import re\n",
    "import numpy as np\n",
    "from sklearn.model_selection import train_test_split\n",
    "from sklearn.feature_extraction.text import TfidfVectorizer\n",
    "from sklearn.compose import ColumnTransformer\n",
    "from sklearn.pipeline import Pipeline\n",
    "from sklearn.ensemble import RandomForestRegressor\n",
    "from xgboost import XGBRegressor\n",
    "from scipy.sparse import hstack, csr_matrix\n",
    "from sklearn.metrics import mean_absolute_percentage_error, mean_squared_error\n",
    "from sklearn.model_selection import RandomizedSearchCV\n",
    "from scipy.stats import randint\n",
    "import os \n",
    "import mlflow\n",
    "\n",
    "\n",
    "from ML_Utils import *\n"
   ]
  },
  {
   "cell_type": "code",
   "execution_count": null,
   "id": "0130bb4b",
   "metadata": {
    "ExecuteTime": {
     "end_time": "2024-02-10T18:49:51.056153Z",
     "start_time": "2024-02-10T18:49:48.398781Z"
    }
   },
   "outputs": [],
   "source": []
  },
  {
   "cell_type": "code",
   "execution_count": 2,
   "id": "f4573bf4",
   "metadata": {
    "ExecuteTime": {
     "end_time": "2024-02-11T10:52:04.962753Z",
     "start_time": "2024-02-11T10:52:03.684597Z"
    }
   },
   "outputs": [],
   "source": [
    "# Load the data:\n",
    "\n",
    "data = pd.read_csv(\"/data1/notebooks/H_Level/ML/Data/books_task.csv\")\n",
    "\n",
    "data = data.drop(['Unnamed: 0'], axis = 1)\n"
   ]
  },
  {
   "cell_type": "code",
   "execution_count": 3,
   "id": "4b081866",
   "metadata": {
    "ExecuteTime": {
     "end_time": "2024-02-11T10:52:07.761819Z",
     "start_time": "2024-02-11T10:52:07.138045Z"
    }
   },
   "outputs": [
    {
     "name": "stdout",
     "output_type": "stream",
     "text": [
      "                                                Title  \\\n",
      "0                      Its Only Art If Its Well Hung!   \n",
      "1                            Dr. Seuss: American Icon   \n",
      "2               Wonderful Worship in Smaller Churches   \n",
      "3                       Whispers of the Wicked Saints   \n",
      "4   The Church of Christ: A Biblical Ecclesiology ...   \n",
      "5                            Saint Hyacinth of Poland   \n",
      "6   Rising Sons and Daughters: Life Among Japan's ...   \n",
      "7   Muslim Women's Choices: Religious Belief and S...   \n",
      "8                         Dramatica for Screenwriters   \n",
      "9    Mensa Number Puzzles (Mensa Word Games for Kids)   \n",
      "10  Vector Quantization and Signal Compression (Th...   \n",
      "11                               A husband for Kutani   \n",
      "12  The Ultimate Guide to Law School Admission: In...   \n",
      "13  The Repeal of Reticence: A History of America'...   \n",
      "14  Overcoming Hypertension (Dr. Kenneth H. Cooper...   \n",
      "15                                   Alaska Sourdough   \n",
      "16  The Oxford Handbook of Free Will (Oxford Handb...   \n",
      "17                  Eyewitness Travel Guide to Europe   \n",
      "18                               Hunting The Hard Way   \n",
      "19                    History of Magic and the Occult   \n",
      "\n",
      "                                          description  \\\n",
      "0                                                 NaN   \n",
      "1   Philip Nel takes a fascinating look into the k...   \n",
      "2   This resource includes twelve principles in un...   \n",
      "3   Julia Thomas finds her life spinning out of co...   \n",
      "4   In The Church of Christ: A Biblical Ecclesiolo...   \n",
      "5   The story for children 10 and up of St. Hyacin...   \n",
      "6   Wardell recalls his experience as a foreign st...   \n",
      "7   Counters the Western views and stereotypes of ...   \n",
      "8   Dramatica for Screenwriters by Armando Saldana...   \n",
      "9   Acclaimed teacher and puzzler Evelyn B. Christ...   \n",
      "10  Herb Caen, a popular columnist for the San Fra...   \n",
      "11  First published in 1938, this is a collection ...   \n",
      "12  This collection brings together a distinguishe...   \n",
      "13  At a time when America's faculties of taste an...   \n",
      "14  Like a time bomb ticking away, hypertension bu...   \n",
      "15  \"Sourdough is a magical food\", as author Ruth ...   \n",
      "16  A guide to current work on free will and relat...   \n",
      "17  The DK Eyewitness Travel Guide: Eastern and Ce...   \n",
      "18  Thrilling stories about hunting wildcat, buffa...   \n",
      "19  See the history of witchcraft, magic and super...   \n",
      "\n",
      "                                              authors  \\\n",
      "0                                    ['Julie Strain']   \n",
      "1                                      ['Philip Nel']   \n",
      "2                                    ['David R. Ray']   \n",
      "3                                 ['Veronica Haddon']   \n",
      "4                                ['Everett Ferguson']   \n",
      "5                            ['Mary Fabyan Windeatt']   \n",
      "6                                  ['Steven Wardell']   \n",
      "7            ['Camillia Fawzi El-Solh', 'Judy Mabro']   \n",
      "8                            ['Armando Salda A-Mora']   \n",
      "9                           ['Evelyn B. Christensen']   \n",
      "10                 ['Allen Gersho', 'Robert M. Gray']   \n",
      "11                                     ['Frank Owen']   \n",
      "12                                   ['Fiona Cownie']   \n",
      "13                              ['Rochelle Gurstein']   \n",
      "14                              ['Kenneth H. Cooper']   \n",
      "15                                    ['Ruth Allman']   \n",
      "16                                    ['Robert Kane']   \n",
      "17  ['Dorling Kindersley Publishing Staff', 'Jonat...   \n",
      "18                                    ['Howard Hill']   \n",
      "19                                             ['DK']   \n",
      "\n",
      "                            publisher publishedDate  \\\n",
      "0             Smithsonian Institution          1996   \n",
      "1                           A&C Black    2005-01-01   \n",
      "2                             OUP USA          2000   \n",
      "3                           iUniverse       2005-02   \n",
      "4          Wm. B. Eerdmans Publishing          1996   \n",
      "5                     Tan Books & Pub    2009-01-01   \n",
      "6                  Plympton PressIntl          1995   \n",
      "7                    Berg Pub Limited    1994-02-17   \n",
      "8                             OUP USA       2005-07   \n",
      "9                            Sky Pony    2018-11-06   \n",
      "10  Springer Science & Business Media    2012-12-06   \n",
      "11         Pickle Partners Publishing    2018-02-27   \n",
      "12              Bloomsbury Publishing    2010-01-28   \n",
      "13                      Hill and Wang    2016-01-05   \n",
      "14                             Bantam    2012-02-01   \n",
      "15             Alaska Northwest Books          1976   \n",
      "16                            OUP USA    2011-07-27   \n",
      "17            Smithsonian Institution    2015-06-15   \n",
      "18                    Derrydale Press    2000-04-26   \n",
      "19             Dorling Kindersley Ltd    2020-08-06   \n",
      "\n",
      "                       categories      Impact  \n",
      "0     ['Comics & Graphic Novels']  784.303924  \n",
      "1   ['Biography & Autobiography']  825.465535  \n",
      "2                    ['Religion']  841.705321  \n",
      "3                     ['Fiction']  666.426542  \n",
      "4                    ['Religion']  806.216143  \n",
      "5   ['Biography & Autobiography']  799.162610  \n",
      "6              ['Social Science']  793.504900  \n",
      "7                    ['Religion']  759.271158  \n",
      "8                   ['Reference']  847.021372  \n",
      "9         ['Juvenile Nonfiction']  759.271158  \n",
      "10   ['Technology & Engineering']  800.781298  \n",
      "11                    ['History']  805.568540  \n",
      "12                        ['Law']  715.333259  \n",
      "13          ['Political Science']  819.108336  \n",
      "14           ['Health & Fitness']  805.568540  \n",
      "15                    ['Cooking']  802.828609  \n",
      "16                 ['Philosophy']  831.066667  \n",
      "17                     ['Europe']  787.188392  \n",
      "18        ['Sports & Recreation']  866.582272  \n",
      "19        ['Body, Mind & Spirit']  763.924640  \n",
      "\n",
      "\n",
      "column names\n",
      "['Title' 'description' 'authors' 'publisher' 'publishedDate' 'categories'\n",
      " 'Impact']\n",
      "\n",
      "\n",
      "data type of column\n",
      "Title             object\n",
      "description       object\n",
      "authors           object\n",
      "publisher         object\n",
      "publishedDate     object\n",
      "categories        object\n",
      "Impact           float64\n",
      "dtype: object\n",
      "\n",
      "\n",
      "describe numerical\n",
      "              Impact\n",
      "count  138724.000000\n",
      "mean      786.763662\n",
      "std        63.640350\n",
      "min         0.000000\n",
      "25%       763.039309\n",
      "50%       805.568540\n",
      "75%       819.108336\n",
      "max      1000.000000\n",
      "\n",
      "\n",
      "describe categorical\n",
      "                                 Title            description        authors  \\\n",
      "count                           138724                 125975         136001   \n",
      "unique                          138724                 116931          97801   \n",
      "top     Its Only Art If Its Well Hung!  Publisher Description  ['Rose Arny']   \n",
      "freq                                 1                     54            236   \n",
      "\n",
      "              publisher publishedDate   categories  \n",
      "count            138724        138376       138724  \n",
      "unique            12855         10819          100  \n",
      "top     Tan Books & Pub          2000  ['Fiction']  \n",
      "freq               3635          3362        23419  \n",
      "\n",
      "\n",
      "info\n",
      "<class 'pandas.core.frame.DataFrame'>\n",
      "RangeIndex: 138724 entries, 0 to 138723\n",
      "Data columns (total 7 columns):\n",
      " #   Column         Non-Null Count   Dtype  \n",
      "---  ------         --------------   -----  \n",
      " 0   Title          138724 non-null  object \n",
      " 1   description    125975 non-null  object \n",
      " 2   authors        136001 non-null  object \n",
      " 3   publisher      138724 non-null  object \n",
      " 4   publishedDate  138376 non-null  object \n",
      " 5   categories     138724 non-null  object \n",
      " 6   Impact         138724 non-null  float64\n",
      "dtypes: float64(1), object(6)\n",
      "memory usage: 7.4+ MB\n",
      "None\n",
      "\n",
      "\n",
      "null_count\n",
      "Title            0.000000\n",
      "description      9.190191\n",
      "authors          1.962890\n",
      "publisher        0.000000\n",
      "publishedDate    0.250858\n",
      "categories       0.000000\n",
      "Impact           0.000000\n",
      "dtype: float64\n",
      "\n",
      "\n"
     ]
    }
   ],
   "source": [
    "# EDA:\n",
    "data_overview = DataOverview(data)\n",
    "data_overview.get_data_head()\n",
    "data_overview.get_column_names()\n",
    "data_overview.get_data_types()\n",
    "data_overview.describe_numerical()\n",
    "data_overview.describe_categorical()\n",
    "data_overview.get_data_info()\n",
    "data_overview.get_null_count()\n",
    "\n",
    "# Insights:\n",
    "\n",
    "# 1. Data has book title in text, description as text, author name as text, publisher name as text, published date as date, categories as text, and Impact in float\n",
    "\n",
    "# 2. authors and categories has list \n",
    "\n",
    "# 3. Impact is on scale of 1000, and is rightly skewed\n",
    "\n",
    "# 4. Published date is inconsistent\n",
    "\n",
    "# 5. There are null values in description, authors and publishedDate. I will drop the null values, but that can be treated.\n"
   ]
  },
  {
   "cell_type": "code",
   "execution_count": null,
   "id": "4da080c3",
   "metadata": {
    "ExecuteTime": {
     "end_time": "2024-02-10T18:45:29.650179Z",
     "start_time": "2024-02-10T18:45:29.630983Z"
    }
   },
   "outputs": [],
   "source": []
  },
  {
   "cell_type": "code",
   "execution_count": 4,
   "id": "041ec969",
   "metadata": {
    "ExecuteTime": {
     "end_time": "2024-02-11T10:52:12.759602Z",
     "start_time": "2024-02-11T10:52:11.966049Z"
    }
   },
   "outputs": [
    {
     "name": "stderr",
     "output_type": "stream",
     "text": [
      "/data1/notebooks/H_Level/ML/Code/ML_Utils.py:64: FutureWarning: The default value of regex will change from True to False in a future version. In addition, single character regular expressions will *not* be treated as literal strings when regex=True.\n",
      "  self.data[col] = self.data[col].str.replace(\"[\", \"\").str.replace(\"]\", \"\").str.replace(\"'\", \"\")\n"
     ]
    }
   ],
   "source": [
    "# Pre Processing of Data\n",
    "\n",
    "data_preprocessed = general_preprocessing(data)\n",
    "data_preprocessed.removesquarebracket(columns = ['authors', 'categories'])\n",
    "data_preprocessed.date_processing(columns = ['publishedDate'])\n",
    "data_preprocessed.dropna()\n",
    "data_preprocessed.scaled(columns_to_scale = ['Impact'])\n"
   ]
  },
  {
   "cell_type": "code",
   "execution_count": null,
   "id": "7264cb11",
   "metadata": {
    "ExecuteTime": {
     "end_time": "2024-02-11T09:18:20.630617Z",
     "start_time": "2024-02-11T09:18:20.621069Z"
    }
   },
   "outputs": [],
   "source": []
  },
  {
   "cell_type": "code",
   "execution_count": 5,
   "id": "25d84048",
   "metadata": {
    "ExecuteTime": {
     "end_time": "2024-02-11T10:52:26.174896Z",
     "start_time": "2024-02-11T10:52:13.804406Z"
    }
   },
   "outputs": [],
   "source": [
    "X_combined = TextVectorizer(64)\n",
    "X_combined = X_combined.fit_transform(data, text_columns = ['Title', 'description', 'authors', 'publisher', 'categories'], numerical_column = ['publishedDate'])"
   ]
  },
  {
   "cell_type": "code",
   "execution_count": 7,
   "id": "610f8525",
   "metadata": {
    "ExecuteTime": {
     "end_time": "2024-02-11T10:42:02.772647Z",
     "start_time": "2024-02-11T10:42:02.735288Z"
    }
   },
   "outputs": [],
   "source": [
    "# Split data into train and test sets\n",
    "X_train, X_test, y_train, y_test = train_test_split(X_combined, data['Impact'], test_size=0.2, random_state=42)\n"
   ]
  },
  {
   "cell_type": "code",
   "execution_count": null,
   "id": "62d97371",
   "metadata": {},
   "outputs": [],
   "source": [
    "\n",
    "os.chdir(\"/data1\")\n",
    "\n",
    "mlflow.set_tracking_uri(\"...\")\n",
    "# I have removed URI for privacy concerns.\n",
    "\n",
    "## This sets the place where the models logs are stored .If it is not set mlflow will create a local folder in your directory.But\n",
    "## further configuration will be needed to attach it with mlflow webserver.Hence best to keep it to original path\n",
    "\n",
    "mlflow.set_experiment('Book_Impact_Prediction_1')\n",
    "## Set your experiment name (Creates the experiment if it does not exist)\n",
    "## Set your experiment name (Creates the experiment if it does not exist)\n",
    "\n",
    "###Starts an active run\n",
    "\n",
    "mlflow.set_tag(\"mlflow.runName\", f\"Book_Impact_Prediction_1\")\n",
    "\n",
    "mlflow.autolog()\n",
    "\n",
    "with mlflow.start_run(nested=True, description=f\"Running Xgboost regressor First version\"):\n",
    "    \n",
    "    # Initialize XGBoost Regressor\n",
    "    xgb_regressor = XGBRegressor()\n",
    "    \n",
    "    # Train the model\n",
    "    xgb_regressor.fit(X_train, y_train)\n",
    "    \n",
    "    # Evaluate the model\n",
    "    mse = mean_squared_error(y_test, xgb_regressor.predict(X_test))\n",
    "    print(\"Mean Squared Error:\", mse)\n",
    "    \n",
    "    predicted_values = xgb_regressor.predict(X_test)\n",
    "    \n",
    "    mape = mean_absolute_percentage_error(y_test, predicted_values)\n",
    "    \n",
    "    print(\"Mean Absolute Percentage Error:\", mape)\n",
    "    \n",
    "        # Log AUC to MLflow\n",
    "    mlflow.log_metric(\"Mean Squared Error\", mse)\n",
    "    mlflow.log_metric(\"Mean Absolute Percentage Error\", mape)\n",
    "    \n",
    "    from mlflow.models import infer_signature\n",
    "    \n",
    "    signature = infer_signature(X_test, predicted_values)\n",
    "    \n",
    "    # Save the model with MLflow:\n",
    "    mlflow.sklearn.save_model(xgb_regressor, \"xgb_regressor_path\", signature = signature)\n",
    "\n",
    "mlflow.end_run()\n"
   ]
  },
  {
   "cell_type": "code",
   "execution_count": null,
   "id": "e6035c81",
   "metadata": {
    "ExecuteTime": {
     "end_time": "2024-02-11T09:37:08.638855Z",
     "start_time": "2024-02-11T09:37:00.907688Z"
    }
   },
   "outputs": [],
   "source": [
    "\n",
    "os.chdir(\"/data1\")\n",
    "\n",
    "mlflow.set_tracking_uri(\"...\")\n",
    "# I have removed URI for privacy concerns.\n",
    "\n",
    "## This sets the place where the models logs are stored .If it is not set mlflow will create a local folder in your directory.But\n",
    "## further configuration will be needed to attach it with mlflow webserver.Hence best to keep it to original path\n",
    "\n",
    "mlflow.set_experiment('Book_Impact_Prediction_1')\n",
    "## Set your experiment name (Creates the experiment if it does not exist)\n",
    "## Set your experiment name (Creates the experiment if it does not exist)\n",
    "\n",
    "###Starts an active run\n",
    "\n",
    "mlflow.set_tag(\"mlflow.runName\", f\"Book_Impact_Prediction_1\")\n",
    "\n",
    "mlflow.autolog()\n",
    "\n",
    "with mlflow.start_run(nested=True, description=f\"Running Xgboost regressor Run 2\"):\n",
    "    \n",
    "    # Initialize XGBoost Regressor\n",
    "    xgb_regressor = XGBRegressor()\n",
    "    \n",
    "    # Train the model\n",
    "    xgb_regressor.fit(X_train, y_train)\n",
    "    \n",
    "    # Evaluate the model\n",
    "    mse = mean_squared_error(y_test, xgb_regressor.predict(X_test))\n",
    "    print(\"Mean Squared Error:\", mse)\n",
    "    \n",
    "    predicted_values = xgb_regressor.predict(X_test)\n",
    "    \n",
    "    mape = mean_absolute_percentage_error(y_test, predicted_values)\n",
    "    \n",
    "    print(\"Mean Absolute Percentage Error:\", mape)\n",
    "    \n",
    "        # Log AUC to MLflow\n",
    "    mlflow.log_metric(\"Mean Squared Error\", mse)\n",
    "    mlflow.log_metric(\"Mean Absolute Percentage Error\", mape)\n",
    "    \n",
    "    from mlflow.models import infer_signature\n",
    "    \n",
    "    signature = infer_signature(X_test, predicted_values)\n",
    "    \n",
    "    # Save the model with MLflow:\n",
    "    mlflow.sklearn.save_model(xgb_regressor, \"xgb_regressor_path_2\", signature = signature)\n",
    "\n",
    "mlflow.end_run()\n"
   ]
  },
  {
   "cell_type": "code",
   "execution_count": null,
   "id": "0812d224",
   "metadata": {
    "ExecuteTime": {
     "end_time": "2024-02-11T09:41:24.349624Z",
     "start_time": "2024-02-11T09:40:19.605503Z"
    }
   },
   "outputs": [],
   "source": [
    "\n",
    "os.chdir(\"/data1\")\n",
    "\n",
    "mlflow.set_tracking_uri(\"...\")\n",
    "# I have removed URI for privacy concerns.\n",
    "\n",
    "## This sets the place where the models logs are stored .If it is not set mlflow will create a local folder in your directory.But\n",
    "## further configuration will be needed to attach it with mlflow webserver.Hence best to keep it to original path\n",
    "\n",
    "mlflow.set_experiment('Book_Impact_Prediction_1')\n",
    "## Set your experiment name (Creates the experiment if it does not exist)\n",
    "## Set your experiment name (Creates the experiment if it does not exist)\n",
    "\n",
    "###Starts an active run\n",
    "\n",
    "mlflow.set_tag(\"mlflow.runName\", f\"Book_Impact_Prediction_1\")\n",
    "\n",
    "mlflow.autolog()\n",
    "\n",
    "with mlflow.start_run(nested=True, description=f\"Running Xgboost regressor Model Hypertuned\"):\n",
    "    \n",
    "    # Define the regressor\n",
    "    regressor = XGBRegressor()\n",
    "    \n",
    "    # Define hyperparameter search space\n",
    "    param_grid = {\n",
    "        'n_estimators': [100, 200, 300],\n",
    "        'max_depth': [3, 5, 7],\n",
    "        'learning_rate': [0.05, 0.1, 0.2],\n",
    "        'subsample': [0.8, 0.9, 1.0],\n",
    "        'colsample_bytree': [0.8, 0.9, 1.0],\n",
    "        'gamma': [0, 0.1, 0.2],\n",
    "        'reg_alpha': [0, 0.1, 0.2],\n",
    "        'reg_lambda': [0, 0.1, 0.2]\n",
    "    }\n",
    "    \n",
    "    # Define RandomizedSearchCV\n",
    "    random_search = RandomizedSearchCV(\n",
    "        regressor,\n",
    "        param_distributions=param_grid,\n",
    "        n_iter=10,          # Number of parameter settings that are sampled\n",
    "        cv=5,               # Cross-validation folds\n",
    "        scoring ='neg_mean_squared_error', \n",
    "        n_jobs=3,\n",
    "        random_state=42     # Random seed for reproducibility\n",
    "    )\n",
    "    \n",
    "    # Perform hyperparameter tuning\n",
    "    random_search.fit(X_train, y_train)\n",
    "    \n",
    "    # Get the best hyperparameters\n",
    "    best_params = random_search.best_params_\n",
    "    print(\"Best Hyperparameters:\", best_params)\n",
    "    \n",
    "    # Evaluate model performance on the test set\n",
    "    xgb_regressor = random_search.best_estimator_\n",
    "    \n",
    "    # Evaluate the model\n",
    "    mse = mean_squared_error(y_test, xgb_regressor.predict(X_test))\n",
    "    print(\"Mean Squared Error:\", mse)\n",
    "    \n",
    "    predicted_values = xgb_regressor.predict(X_test)\n",
    "    \n",
    "    mape = mean_absolute_percentage_error(y_test, predicted_values)\n",
    "    \n",
    "    print(\"Mean Absolute Percentage Error:\", mape)\n",
    "    \n",
    "        # Log AUC to MLflow\n",
    "    mlflow.log_metric(\"Mean Squared Error\", mse)\n",
    "    mlflow.log_metric(\"Mean Absolute Percentage Error\", mape)\n",
    "    \n",
    "    from mlflow.models import infer_signature\n",
    "    \n",
    "    signature = infer_signature(X_test, predicted_values)\n",
    "    \n",
    "    # Save the model with MLflow:\n",
    "    mlflow.sklearn.save_model(xgb_regressor, \"xgb_regressor_path_3\", signature = signature)\n",
    "\n",
    "mlflow.end_run()\n"
   ]
  },
  {
   "cell_type": "code",
   "execution_count": null,
   "id": "54f90f8f",
   "metadata": {
    "ExecuteTime": {
     "end_time": "2024-02-10T20:38:45.648410Z",
     "start_time": "2024-02-10T20:37:42.870689Z"
    }
   },
   "outputs": [],
   "source": []
  },
  {
   "cell_type": "code",
   "execution_count": null,
   "id": "21ea9269",
   "metadata": {},
   "outputs": [],
   "source": []
  },
  {
   "cell_type": "code",
   "execution_count": 6,
   "id": "22cc3ba7",
   "metadata": {
    "ExecuteTime": {
     "end_time": "2024-02-11T10:52:35.186384Z",
     "start_time": "2024-02-11T10:52:35.016642Z"
    }
   },
   "outputs": [],
   "source": [
    "# Get the best model from experiment we store in MLflow:\n",
    "\n",
    "import mlflow\n",
    "import os\n",
    "import mlflow.pyfunc\n",
    "\n",
    "os.chdir(\"/data1\")\n",
    "\n",
    "mlflow.set_tracking_uri(\"...\")\n",
    "# I have removed URI for privacy concerns.\n",
    "\n",
    "experiment_name = \"Book_Impact_Prediction_1\"\n",
    "\n",
    "runs = mlflow.search_runs(experiment_ids=mlflow.get_experiment_by_name(experiment_name).experiment_id)\n",
    "\n",
    "runs = runs.sort_values(['metrics.Mean Absolute Percentage Error'], ascending = [False]).reset_index().drop(['index'], axis = 1)\n",
    "\n",
    "best_run = runs.loc[runs[\"metrics.Mean Absolute Percentage Error\"].idxmax()]\n"
   ]
  },
  {
   "cell_type": "code",
   "execution_count": 7,
   "id": "4003de30",
   "metadata": {
    "ExecuteTime": {
     "end_time": "2024-02-11T10:52:36.716448Z",
     "start_time": "2024-02-11T10:52:36.495276Z"
    }
   },
   "outputs": [],
   "source": [
    "best_model = mlflow.pyfunc.load_model(best_run.artifact_uri + \"/model\")"
   ]
  },
  {
   "cell_type": "code",
   "execution_count": 9,
   "id": "20a4278a",
   "metadata": {
    "ExecuteTime": {
     "end_time": "2024-02-11T10:52:54.020962Z",
     "start_time": "2024-02-11T10:52:53.935831Z"
    }
   },
   "outputs": [],
   "source": [
    "predicted = best_model.predict(X_combined)\n",
    "\n",
    "with open('/data1/notebooks/H_Level/ML/Scaler Pickle/scaler.pkl', 'rb') as f:\n",
    "    loaded_scaler = pickle.load(f)\n",
    "\n",
    "# Use the loaded scaler to transform data\n",
    "predicted = loaded_scaler.inverse_transform(pd.DataFrame(predicted))\n"
   ]
  },
  {
   "cell_type": "code",
   "execution_count": null,
   "id": "fbaea065",
   "metadata": {},
   "outputs": [],
   "source": []
  },
  {
   "cell_type": "code",
   "execution_count": null,
   "id": "16477911",
   "metadata": {},
   "outputs": [],
   "source": []
  }
 ],
 "metadata": {
  "hide_input": false,
  "kernelspec": {
   "display_name": "MLflow",
   "language": "python",
   "name": "mlflow"
  },
  "language_info": {
   "codemirror_mode": {
    "name": "ipython",
    "version": 3
   },
   "file_extension": ".py",
   "mimetype": "text/x-python",
   "name": "python",
   "nbconvert_exporter": "python",
   "pygments_lexer": "ipython3",
   "version": "3.11.7"
  }
 },
 "nbformat": 4,
 "nbformat_minor": 5
}
